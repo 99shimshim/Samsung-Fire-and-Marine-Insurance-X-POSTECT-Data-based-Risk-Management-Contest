{
 "cells": [
  {
   "cell_type": "markdown",
   "id": "02ddffed",
   "metadata": {},
   "source": [
    "# 마일리지할인특약 가입자/미가입자 연관규칙분석"
   ]
  },
  {
   "cell_type": "code",
   "execution_count": 21,
   "id": "30c88e2f",
   "metadata": {},
   "outputs": [],
   "source": [
    "import pandas as pd\n",
    "import numpy as np\n",
    "dt=pd.read_csv('C:/Users/mrg07/Desktop/연관분석1_0915_인코딩.csv', encoding = 'cp949')"
   ]
  },
  {
   "cell_type": "code",
   "execution_count": 30,
   "id": "815b2198",
   "metadata": {},
   "outputs": [],
   "source": [
    "df = pd.read_csv('C:/Users/mrg07/Desktop/dataset0928찐최종.csv')"
   ]
  },
  {
   "cell_type": "code",
   "execution_count": 31,
   "id": "4823ce9b",
   "metadata": {},
   "outputs": [
    {
     "data": {
      "text/plain": [
       "array([1, 3, 2, 0], dtype=int64)"
      ]
     },
     "execution_count": 31,
     "metadata": {},
     "output_type": "execute_result"
    }
   ],
   "source": [
    "df['차량경과년수'].unique()"
   ]
  },
  {
   "cell_type": "code",
   "execution_count": 3,
   "id": "76c04b41",
   "metadata": {},
   "outputs": [
    {
     "data": {
      "text/plain": [
       "array([    0., 15000., 12000., 10000.,  7000.,  3000.,  5000.])"
      ]
     },
     "execution_count": 3,
     "metadata": {},
     "output_type": "execute_result"
    }
   ],
   "source": [
    "df['마일리지할인율'].unique()"
   ]
  },
  {
   "cell_type": "code",
   "execution_count": 4,
   "id": "52b32d5d",
   "metadata": {},
   "outputs": [
    {
     "name": "stdout",
     "output_type": "stream",
     "text": [
      "403\n",
      "139\n",
      "19\n"
     ]
    }
   ],
   "source": [
    "print(np.sum(dt['antecedents'] == '마일리지할인율_15000.0'))\n",
    "print(np.sum(dt['antecedents'] == '마일리지할인율_12000.0'))\n",
    "print(np.sum(dt['antecedents'] == '마일리지할인율_10000.0'))\n",
    "\n",
    "# 3000 5000 7000은 없음"
   ]
  },
  {
   "cell_type": "markdown",
   "id": "8ba6cf27",
   "metadata": {},
   "source": [
    "가입 (15000)"
   ]
  },
  {
   "cell_type": "code",
   "execution_count": 5,
   "id": "001bdf2b",
   "metadata": {},
   "outputs": [],
   "source": [
    "search1='마일리지할인율_15000.0'\n",
    "dt1=dt[dt['consequents'].str.contains(search1,case=False,na=False)]\n",
    "cut_dt1=dt1[dt1['lift']>=1.5]\n",
    "cut_dt1=cut_dt1.sort_values(by='lift',ascending=False)\n",
    "join1=cut_dt1['antecedents'].unique()\n",
    "# cut_dt.to_csv('특약 가입 특징.csv',encoding='cp949')"
   ]
  },
  {
   "cell_type": "markdown",
   "id": "c615bfc2",
   "metadata": {},
   "source": [
    "가입 (12000)"
   ]
  },
  {
   "cell_type": "code",
   "execution_count": 6,
   "id": "a3f5186e",
   "metadata": {},
   "outputs": [],
   "source": [
    "search2='마일리지할인율_12000.0'\n",
    "dt2=dt[dt['consequents'].str.contains(search2,case=False,na=False)]\n",
    "cut_dt2=dt2[dt2['lift']>=1.5]\n",
    "cut_dt2=cut_dt2.sort_values(by='lift',ascending=False)\n",
    "join2=cut_dt2['antecedents'].unique()\n",
    "# cut_dt.to_csv('특약 가입 특징.csv',encoding='cp949')"
   ]
  },
  {
   "cell_type": "markdown",
   "id": "3f9edb65",
   "metadata": {},
   "source": [
    "가입 (10000)"
   ]
  },
  {
   "cell_type": "code",
   "execution_count": 7,
   "id": "a6f5baab",
   "metadata": {},
   "outputs": [],
   "source": [
    "search3='마일리지할인율_10000.0'\n",
    "dt3=dt[dt['consequents'].str.contains(search3,case=False,na=False)]\n",
    "cut_dt3=dt3[dt3['lift']>=1.5]\n",
    "cut_dt3=cut_dt3.sort_values(by='lift',ascending=False)\n",
    "join3=cut_dt3['antecedents'].unique()\n",
    "# cut_dt.to_csv('특약 가입 특징.csv',encoding='cp949')"
   ]
  },
  {
   "cell_type": "markdown",
   "id": "5677f8ad",
   "metadata": {},
   "source": [
    "다 합쳐서 \"가입\"으로"
   ]
  },
  {
   "cell_type": "code",
   "execution_count": 8,
   "id": "630c454c",
   "metadata": {},
   "outputs": [],
   "source": [
    "join = np.concatenate((join1, join2, join3))"
   ]
  },
  {
   "cell_type": "code",
   "execution_count": null,
   "id": "4c1d7519",
   "metadata": {},
   "outputs": [],
   "source": []
  },
  {
   "cell_type": "markdown",
   "id": "a5b3004c",
   "metadata": {},
   "source": [
    "미가입"
   ]
  },
  {
   "cell_type": "code",
   "execution_count": 9,
   "id": "65b3f0a7",
   "metadata": {},
   "outputs": [],
   "source": [
    "dt=pd.read_csv('C:/Users/mrg07/Desktop/연관분석1_0915_인코딩.csv', encoding = 'cp949')\n",
    "\n",
    "search='마일리지할인율_0.0'\n",
    "dt=dt[dt['consequents'].str.contains(search,case=False,na=False)]\n",
    "cut_dt=dt[dt['lift']>=1.5]\n",
    "cut_dt=cut_dt.sort_values(by='lift',ascending=False)\n",
    "notjoin=cut_dt['antecedents'].unique()\n",
    "# cut_dt.to_csv('특약 미가입 특징.csv',encoding='cp949')"
   ]
  },
  {
   "cell_type": "code",
   "execution_count": 10,
   "id": "44b41de0",
   "metadata": {},
   "outputs": [
    {
     "data": {
      "text/plain": [
       "array(['직전3년간사고건수_4', '가입경력코드_1', '차량경과년수_0', '차량가입금액_2', '차량가입금액_3',\n",
       "       '국산구분코드_2', '가입경력코드_8', '피보험자연령대_70', '차량가입금액_0', '차종_2',\n",
       "       '운전자한정특별약관코드_12', '영상기록장치특약요율_0', '직전3년간사고건수_3'], dtype=object)"
      ]
     },
     "execution_count": 10,
     "metadata": {},
     "output_type": "execute_result"
    }
   ],
   "source": [
    "notjoin"
   ]
  },
  {
   "cell_type": "code",
   "execution_count": null,
   "id": "4946d591",
   "metadata": {},
   "outputs": [],
   "source": []
  },
  {
   "cell_type": "markdown",
   "id": "4c62fdf0",
   "metadata": {},
   "source": [
    "안겹치는 특징 찾기"
   ]
  },
  {
   "cell_type": "code",
   "execution_count": 11,
   "id": "eed47658",
   "metadata": {
    "scrolled": true
   },
   "outputs": [
    {
     "data": {
      "text/plain": [
       "['피보험자연령대_50',\n",
       " '운전자한정특별약관코드_5',\n",
       " '차량경과년수_3',\n",
       " '차종_3',\n",
       " '차량경과년수_3',\n",
       " \"직전3년간사고건수_0', '가입경력코드_8\",\n",
       " \"운전자한정특별약관코드_3', '가입경력코드_8\",\n",
       " \"차량가입금액_1', '가입경력코드_8\",\n",
       " \"차량경과년수_3', '가입경력코드_8\",\n",
       " \"직전3년간사고건수_1', '가입경력코드_8\",\n",
       " \"차량경과년수_2', '가입경력코드_8\",\n",
       " \"피보험자연령대_40', '가입경력코드_8\",\n",
       " \"직전3년간사고건수_0', '운전자한정특별약관코드_4\",\n",
       " \"직전3년간사고건수_0', '차량가입금액_1\",\n",
       " \"직전3년간사고건수_0', '피보험자연령대_30\",\n",
       " \"직전3년간사고건수_0', '영상기록장치특약요율_1\",\n",
       " \"사고여부_0', '가입경력코드_8\",\n",
       " \"직전3년간사고건수_0', '운전자한정특별약관코드_3\",\n",
       " \"운전자한정특별약관코드_4', '가입경력코드_8\",\n",
       " \"가입경력코드_8', '국산구분코드_1\",\n",
       " \"영상기록장치특약요율_1', '가입경력코드_8\",\n",
       " \"가입경력코드_8', '피보험자연령대_50\",\n",
       " \"차종_4', '가입경력코드_8\",\n",
       " \"피보험자성별코드_2', '가입경력코드_8\",\n",
       " '직전3년간사고건수_0',\n",
       " \"사고여부_0', '가입경력코드_8\",\n",
       " \"차량가입금액_1', '가입경력코드_8\",\n",
       " \"가입경력코드_8', '국산구분코드_1\",\n",
       " \"차량가입금액_1', '사고여부_0\",\n",
       " \"영상기록장치특약요율_1', '차량가입금액_1\",\n",
       " \"영상기록장치특약요율_1', '사고여부_0\",\n",
       " \"피보험자성별코드_2', '차량가입금액_1\"]"
      ]
     },
     "execution_count": 11,
     "metadata": {},
     "output_type": "execute_result"
    }
   ],
   "source": [
    "res=[x for x in join if x not in notjoin]\n",
    "res"
   ]
  },
  {
   "cell_type": "code",
   "execution_count": null,
   "id": "781e0501",
   "metadata": {},
   "outputs": [],
   "source": []
  },
  {
   "cell_type": "code",
   "execution_count": null,
   "id": "b4c8a695",
   "metadata": {},
   "outputs": [],
   "source": []
  },
  {
   "cell_type": "code",
   "execution_count": 12,
   "id": "1804e6ff",
   "metadata": {},
   "outputs": [],
   "source": [
    "pred_dt = pd.read_csv('C:/Users/mrg07/Desktop/dataset0928찐최종.csv')"
   ]
  },
  {
   "cell_type": "code",
   "execution_count": 13,
   "id": "2cb56bfd",
   "metadata": {},
   "outputs": [
    {
     "data": {
      "text/plain": [
       "Index(['피보험자연령대', '피보험자성별코드', '국산구분코드', '직전3년간사고건수', '차량경과년수', '가입경력코드',\n",
       "       '차량가입금액', '영상기록장치특약요율', '마일리지할인율', '유효대수', '사고대수', '사고율',\n",
       "       '직전3년간사고건수_유무', '차종그루핑', '마일리지할인율_가입여부', '자차보험가입여부', '차종',\n",
       "       '운전자한정특별약관코드_1', '운전자한정특별약관코드_2', '운전자한정특별약관코드_3', '운전자한정특별약관코드_4',\n",
       "       '운전자한정특별약관코드_5', '운전자한정특별약관코드_6', '운전자한정특별약관코드_7', '운전자한정특별약관코드_10',\n",
       "       '운전자한정특별약관코드_11', '운전자한정특별약관코드_12'],\n",
       "      dtype='object')"
      ]
     },
     "execution_count": 13,
     "metadata": {},
     "output_type": "execute_result"
    }
   ],
   "source": [
    "pred_dt.columns"
   ]
  },
  {
   "cell_type": "code",
   "execution_count": 16,
   "id": "774232a3",
   "metadata": {},
   "outputs": [
    {
     "data": {
      "text/plain": [
       "array([1, 4, 3, 2, 5, 0], dtype=int64)"
      ]
     },
     "execution_count": 16,
     "metadata": {},
     "output_type": "execute_result"
    }
   ],
   "source": [
    "pred_dt['차종'].unique()"
   ]
  },
  {
   "cell_type": "code",
   "execution_count": 19,
   "id": "c8883904",
   "metadata": {},
   "outputs": [
    {
     "data": {
      "text/plain": [
       "array([1, 3, 2, 0], dtype=int64)"
      ]
     },
     "execution_count": 19,
     "metadata": {},
     "output_type": "execute_result"
    }
   ],
   "source": [
    "pred_dt['차량경과년수'].unique()"
   ]
  },
  {
   "cell_type": "code",
   "execution_count": 125,
   "id": "755b83bc",
   "metadata": {},
   "outputs": [],
   "source": [
    "# 조건에 해당하는 사람을 필터링!\n",
    "pred_dt1 = pred_dt[(pred_dt['마일리지할인율'] == 0) & (pred_dt['피보험자연령대']==50) | (pred_dt['운전자한정특별약관코드_5']==1) | (pred_dt['차량경과년수']==4) | (pred_dt['차종']==3) | (pred_dt['직전3년간사고건수']==0)]\n",
    "#이때는 차량경과년수가 0~부터 시작이라 사고율 변화까지 적용한 코드에는 1 2 가 아니라 2 3으로 되어있을거야 !!!"
   ]
  },
  {
   "cell_type": "code",
   "execution_count": 126,
   "id": "4a39c7bf",
   "metadata": {},
   "outputs": [
    {
     "data": {
      "text/html": [
       "<div>\n",
       "<style scoped>\n",
       "    .dataframe tbody tr th:only-of-type {\n",
       "        vertical-align: middle;\n",
       "    }\n",
       "\n",
       "    .dataframe tbody tr th {\n",
       "        vertical-align: top;\n",
       "    }\n",
       "\n",
       "    .dataframe thead th {\n",
       "        text-align: right;\n",
       "    }\n",
       "</style>\n",
       "<table border=\"1\" class=\"dataframe\">\n",
       "  <thead>\n",
       "    <tr style=\"text-align: right;\">\n",
       "      <th></th>\n",
       "      <th>피보험자연령대</th>\n",
       "      <th>피보험자성별코드</th>\n",
       "      <th>국산구분코드</th>\n",
       "      <th>직전3년간사고건수</th>\n",
       "      <th>차량경과년수</th>\n",
       "      <th>가입경력코드</th>\n",
       "      <th>차량가입금액</th>\n",
       "      <th>영상기록장치특약요율</th>\n",
       "      <th>마일리지할인율</th>\n",
       "      <th>유효대수</th>\n",
       "      <th>...</th>\n",
       "      <th>운전자한정특별약관코드_1</th>\n",
       "      <th>운전자한정특별약관코드_2</th>\n",
       "      <th>운전자한정특별약관코드_3</th>\n",
       "      <th>운전자한정특별약관코드_4</th>\n",
       "      <th>운전자한정특별약관코드_5</th>\n",
       "      <th>운전자한정특별약관코드_6</th>\n",
       "      <th>운전자한정특별약관코드_7</th>\n",
       "      <th>운전자한정특별약관코드_10</th>\n",
       "      <th>운전자한정특별약관코드_11</th>\n",
       "      <th>운전자한정특별약관코드_12</th>\n",
       "    </tr>\n",
       "  </thead>\n",
       "  <tbody>\n",
       "    <tr>\n",
       "      <th>1</th>\n",
       "      <td>10</td>\n",
       "      <td>1</td>\n",
       "      <td>1</td>\n",
       "      <td>0</td>\n",
       "      <td>1</td>\n",
       "      <td>2</td>\n",
       "      <td>1</td>\n",
       "      <td>1</td>\n",
       "      <td>15000.0</td>\n",
       "      <td>1.0</td>\n",
       "      <td>...</td>\n",
       "      <td>0</td>\n",
       "      <td>1</td>\n",
       "      <td>0</td>\n",
       "      <td>0</td>\n",
       "      <td>0</td>\n",
       "      <td>0</td>\n",
       "      <td>0</td>\n",
       "      <td>0</td>\n",
       "      <td>0</td>\n",
       "      <td>0</td>\n",
       "    </tr>\n",
       "    <tr>\n",
       "      <th>2</th>\n",
       "      <td>10</td>\n",
       "      <td>1</td>\n",
       "      <td>1</td>\n",
       "      <td>0</td>\n",
       "      <td>3</td>\n",
       "      <td>4</td>\n",
       "      <td>0</td>\n",
       "      <td>0</td>\n",
       "      <td>15000.0</td>\n",
       "      <td>1.0</td>\n",
       "      <td>...</td>\n",
       "      <td>1</td>\n",
       "      <td>0</td>\n",
       "      <td>0</td>\n",
       "      <td>0</td>\n",
       "      <td>0</td>\n",
       "      <td>0</td>\n",
       "      <td>0</td>\n",
       "      <td>0</td>\n",
       "      <td>0</td>\n",
       "      <td>0</td>\n",
       "    </tr>\n",
       "    <tr>\n",
       "      <th>3</th>\n",
       "      <td>10</td>\n",
       "      <td>1</td>\n",
       "      <td>1</td>\n",
       "      <td>0</td>\n",
       "      <td>1</td>\n",
       "      <td>2</td>\n",
       "      <td>0</td>\n",
       "      <td>0</td>\n",
       "      <td>0.0</td>\n",
       "      <td>1.0</td>\n",
       "      <td>...</td>\n",
       "      <td>0</td>\n",
       "      <td>1</td>\n",
       "      <td>0</td>\n",
       "      <td>0</td>\n",
       "      <td>0</td>\n",
       "      <td>0</td>\n",
       "      <td>0</td>\n",
       "      <td>0</td>\n",
       "      <td>0</td>\n",
       "      <td>0</td>\n",
       "    </tr>\n",
       "    <tr>\n",
       "      <th>4</th>\n",
       "      <td>10</td>\n",
       "      <td>1</td>\n",
       "      <td>1</td>\n",
       "      <td>0</td>\n",
       "      <td>2</td>\n",
       "      <td>4</td>\n",
       "      <td>1</td>\n",
       "      <td>1</td>\n",
       "      <td>15000.0</td>\n",
       "      <td>1.0</td>\n",
       "      <td>...</td>\n",
       "      <td>0</td>\n",
       "      <td>0</td>\n",
       "      <td>0</td>\n",
       "      <td>0</td>\n",
       "      <td>0</td>\n",
       "      <td>0</td>\n",
       "      <td>1</td>\n",
       "      <td>0</td>\n",
       "      <td>0</td>\n",
       "      <td>0</td>\n",
       "    </tr>\n",
       "    <tr>\n",
       "      <th>12</th>\n",
       "      <td>10</td>\n",
       "      <td>2</td>\n",
       "      <td>1</td>\n",
       "      <td>1</td>\n",
       "      <td>3</td>\n",
       "      <td>5</td>\n",
       "      <td>1</td>\n",
       "      <td>0</td>\n",
       "      <td>0.0</td>\n",
       "      <td>1.0</td>\n",
       "      <td>...</td>\n",
       "      <td>0</td>\n",
       "      <td>1</td>\n",
       "      <td>0</td>\n",
       "      <td>0</td>\n",
       "      <td>0</td>\n",
       "      <td>0</td>\n",
       "      <td>0</td>\n",
       "      <td>0</td>\n",
       "      <td>0</td>\n",
       "      <td>0</td>\n",
       "    </tr>\n",
       "    <tr>\n",
       "      <th>...</th>\n",
       "      <td>...</td>\n",
       "      <td>...</td>\n",
       "      <td>...</td>\n",
       "      <td>...</td>\n",
       "      <td>...</td>\n",
       "      <td>...</td>\n",
       "      <td>...</td>\n",
       "      <td>...</td>\n",
       "      <td>...</td>\n",
       "      <td>...</td>\n",
       "      <td>...</td>\n",
       "      <td>...</td>\n",
       "      <td>...</td>\n",
       "      <td>...</td>\n",
       "      <td>...</td>\n",
       "      <td>...</td>\n",
       "      <td>...</td>\n",
       "      <td>...</td>\n",
       "      <td>...</td>\n",
       "      <td>...</td>\n",
       "      <td>...</td>\n",
       "    </tr>\n",
       "    <tr>\n",
       "      <th>167622</th>\n",
       "      <td>40</td>\n",
       "      <td>2</td>\n",
       "      <td>1</td>\n",
       "      <td>2</td>\n",
       "      <td>3</td>\n",
       "      <td>8</td>\n",
       "      <td>1</td>\n",
       "      <td>0</td>\n",
       "      <td>0.0</td>\n",
       "      <td>2.0</td>\n",
       "      <td>...</td>\n",
       "      <td>0</td>\n",
       "      <td>1</td>\n",
       "      <td>0</td>\n",
       "      <td>0</td>\n",
       "      <td>0</td>\n",
       "      <td>0</td>\n",
       "      <td>0</td>\n",
       "      <td>0</td>\n",
       "      <td>0</td>\n",
       "      <td>0</td>\n",
       "    </tr>\n",
       "    <tr>\n",
       "      <th>167639</th>\n",
       "      <td>40</td>\n",
       "      <td>2</td>\n",
       "      <td>1</td>\n",
       "      <td>2</td>\n",
       "      <td>2</td>\n",
       "      <td>8</td>\n",
       "      <td>0</td>\n",
       "      <td>1</td>\n",
       "      <td>15000.0</td>\n",
       "      <td>3.0</td>\n",
       "      <td>...</td>\n",
       "      <td>0</td>\n",
       "      <td>0</td>\n",
       "      <td>0</td>\n",
       "      <td>0</td>\n",
       "      <td>1</td>\n",
       "      <td>0</td>\n",
       "      <td>0</td>\n",
       "      <td>0</td>\n",
       "      <td>0</td>\n",
       "      <td>0</td>\n",
       "    </tr>\n",
       "    <tr>\n",
       "      <th>167642</th>\n",
       "      <td>40</td>\n",
       "      <td>2</td>\n",
       "      <td>1</td>\n",
       "      <td>2</td>\n",
       "      <td>1</td>\n",
       "      <td>8</td>\n",
       "      <td>1</td>\n",
       "      <td>1</td>\n",
       "      <td>15000.0</td>\n",
       "      <td>2.0</td>\n",
       "      <td>...</td>\n",
       "      <td>0</td>\n",
       "      <td>0</td>\n",
       "      <td>0</td>\n",
       "      <td>0</td>\n",
       "      <td>0</td>\n",
       "      <td>0</td>\n",
       "      <td>0</td>\n",
       "      <td>0</td>\n",
       "      <td>0</td>\n",
       "      <td>1</td>\n",
       "    </tr>\n",
       "    <tr>\n",
       "      <th>167643</th>\n",
       "      <td>40</td>\n",
       "      <td>2</td>\n",
       "      <td>1</td>\n",
       "      <td>2</td>\n",
       "      <td>2</td>\n",
       "      <td>8</td>\n",
       "      <td>0</td>\n",
       "      <td>0</td>\n",
       "      <td>0.0</td>\n",
       "      <td>6.0</td>\n",
       "      <td>...</td>\n",
       "      <td>0</td>\n",
       "      <td>0</td>\n",
       "      <td>0</td>\n",
       "      <td>1</td>\n",
       "      <td>0</td>\n",
       "      <td>0</td>\n",
       "      <td>0</td>\n",
       "      <td>0</td>\n",
       "      <td>0</td>\n",
       "      <td>0</td>\n",
       "    </tr>\n",
       "    <tr>\n",
       "      <th>167644</th>\n",
       "      <td>40</td>\n",
       "      <td>2</td>\n",
       "      <td>1</td>\n",
       "      <td>2</td>\n",
       "      <td>3</td>\n",
       "      <td>6</td>\n",
       "      <td>0</td>\n",
       "      <td>0</td>\n",
       "      <td>15000.0</td>\n",
       "      <td>2.0</td>\n",
       "      <td>...</td>\n",
       "      <td>0</td>\n",
       "      <td>0</td>\n",
       "      <td>0</td>\n",
       "      <td>1</td>\n",
       "      <td>0</td>\n",
       "      <td>0</td>\n",
       "      <td>0</td>\n",
       "      <td>0</td>\n",
       "      <td>0</td>\n",
       "      <td>0</td>\n",
       "    </tr>\n",
       "  </tbody>\n",
       "</table>\n",
       "<p>86983 rows × 27 columns</p>\n",
       "</div>"
      ],
      "text/plain": [
       "        피보험자연령대  피보험자성별코드  국산구분코드  직전3년간사고건수  차량경과년수  가입경력코드  차량가입금액  \\\n",
       "1            10         1       1          0       1       2       1   \n",
       "2            10         1       1          0       3       4       0   \n",
       "3            10         1       1          0       1       2       0   \n",
       "4            10         1       1          0       2       4       1   \n",
       "12           10         2       1          1       3       5       1   \n",
       "...         ...       ...     ...        ...     ...     ...     ...   \n",
       "167622       40         2       1          2       3       8       1   \n",
       "167639       40         2       1          2       2       8       0   \n",
       "167642       40         2       1          2       1       8       1   \n",
       "167643       40         2       1          2       2       8       0   \n",
       "167644       40         2       1          2       3       6       0   \n",
       "\n",
       "        영상기록장치특약요율  마일리지할인율  유효대수  ...  운전자한정특별약관코드_1  운전자한정특별약관코드_2  \\\n",
       "1                1  15000.0   1.0  ...              0              1   \n",
       "2                0  15000.0   1.0  ...              1              0   \n",
       "3                0      0.0   1.0  ...              0              1   \n",
       "4                1  15000.0   1.0  ...              0              0   \n",
       "12               0      0.0   1.0  ...              0              1   \n",
       "...            ...      ...   ...  ...            ...            ...   \n",
       "167622           0      0.0   2.0  ...              0              1   \n",
       "167639           1  15000.0   3.0  ...              0              0   \n",
       "167642           1  15000.0   2.0  ...              0              0   \n",
       "167643           0      0.0   6.0  ...              0              0   \n",
       "167644           0  15000.0   2.0  ...              0              0   \n",
       "\n",
       "        운전자한정특별약관코드_3  운전자한정특별약관코드_4  운전자한정특별약관코드_5  운전자한정특별약관코드_6  \\\n",
       "1                   0              0              0              0   \n",
       "2                   0              0              0              0   \n",
       "3                   0              0              0              0   \n",
       "4                   0              0              0              0   \n",
       "12                  0              0              0              0   \n",
       "...               ...            ...            ...            ...   \n",
       "167622              0              0              0              0   \n",
       "167639              0              0              1              0   \n",
       "167642              0              0              0              0   \n",
       "167643              0              1              0              0   \n",
       "167644              0              1              0              0   \n",
       "\n",
       "        운전자한정특별약관코드_7  운전자한정특별약관코드_10  운전자한정특별약관코드_11  운전자한정특별약관코드_12  \n",
       "1                   0               0               0               0  \n",
       "2                   0               0               0               0  \n",
       "3                   0               0               0               0  \n",
       "4                   1               0               0               0  \n",
       "12                  0               0               0               0  \n",
       "...               ...             ...             ...             ...  \n",
       "167622              0               0               0               0  \n",
       "167639              0               0               0               0  \n",
       "167642              0               0               0               1  \n",
       "167643              0               0               0               0  \n",
       "167644              0               0               0               0  \n",
       "\n",
       "[86983 rows x 27 columns]"
      ]
     },
     "execution_count": 126,
     "metadata": {},
     "output_type": "execute_result"
    }
   ],
   "source": [
    "pred_dt1"
   ]
  },
  {
   "cell_type": "code",
   "execution_count": null,
   "id": "e72a0d61",
   "metadata": {},
   "outputs": [],
   "source": [
    "print(round(np.sum(pred_dt1['사고율'] > 1) / len(pred_dt2) * 100, 2), '%')"
   ]
  },
  {
   "cell_type": "code",
   "execution_count": 144,
   "id": "07811a40",
   "metadata": {},
   "outputs": [
    {
     "data": {
      "text/plain": [
       "1.0"
      ]
     },
     "execution_count": 144,
     "metadata": {},
     "output_type": "execute_result"
    }
   ],
   "source": [
    "np.quantile(pred_dt1['사고율'], 0.9)"
   ]
  },
  {
   "cell_type": "code",
   "execution_count": 148,
   "id": "4d813eb3",
   "metadata": {},
   "outputs": [
    {
     "name": "stderr",
     "output_type": "stream",
     "text": [
      "C:\\Users\\mrg07\\AppData\\Local\\Temp\\ipykernel_2988\\2232375355.py:1: UserWarning: \n",
      "\n",
      "`distplot` is a deprecated function and will be removed in seaborn v0.14.0.\n",
      "\n",
      "Please adapt your code to use either `displot` (a figure-level function with\n",
      "similar flexibility) or `histplot` (an axes-level function for histograms).\n",
      "\n",
      "For a guide to updating your code to use the new functions, please see\n",
      "https://gist.github.com/mwaskom/de44147ed2974457ad6372750bbe5751\n",
      "\n",
      "  sns.distplot(pred_dt1[['사고율']])\n"
     ]
    },
    {
     "data": {
      "text/plain": [
       "<Axes: ylabel='Density'>"
      ]
     },
     "execution_count": 148,
     "metadata": {},
     "output_type": "execute_result"
    },
    {
     "data": {
      "image/png": "[encoded data removed]",
      "text/plain": [
       "<Figure size 640x480 with 1 Axes>"
      ]
     },
     "metadata": {},
     "output_type": "display_data"
    }
   ],
   "source": [
    "sns.distplot(pred_dt1[['사고율']])"
   ]
  },
  {
   "cell_type": "code",
   "execution_count": null,
   "id": "3d92ef82",
   "metadata": {},
   "outputs": [],
   "source": []
  },
  {
   "cell_type": "code",
   "execution_count": 128,
   "id": "5ac48608",
   "metadata": {},
   "outputs": [],
   "source": [
    "idx1 = pred_dt1.index\n",
    "pred_dt2 = pred_dt.drop(index = idx1, axis = 0)"
   ]
  },
  {
   "cell_type": "code",
   "execution_count": 129,
   "id": "8641f426",
   "metadata": {},
   "outputs": [
    {
     "name": "stdout",
     "output_type": "stream",
     "text": [
      "3.86 %\n"
     ]
    }
   ],
   "source": [
    "print(round(np.sum(pred_dt2['사고율'] > 1) / len(pred_dt2) * 100, 2), '%')"
   ]
  },
  {
   "cell_type": "code",
   "execution_count": 145,
   "id": "1e255c26",
   "metadata": {},
   "outputs": [
    {
     "data": {
      "text/plain": [
       "1.0"
      ]
     },
     "execution_count": 145,
     "metadata": {},
     "output_type": "execute_result"
    }
   ],
   "source": [
    "np.quantile(pred_dt2['사고율'], 0.9)"
   ]
  },
  {
   "cell_type": "code",
   "execution_count": 149,
   "id": "1f152761",
   "metadata": {},
   "outputs": [
    {
     "name": "stderr",
     "output_type": "stream",
     "text": [
      "C:\\Users\\mrg07\\AppData\\Local\\Temp\\ipykernel_2988\\1542826548.py:1: UserWarning: \n",
      "\n",
      "`distplot` is a deprecated function and will be removed in seaborn v0.14.0.\n",
      "\n",
      "Please adapt your code to use either `displot` (a figure-level function with\n",
      "similar flexibility) or `histplot` (an axes-level function for histograms).\n",
      "\n",
      "For a guide to updating your code to use the new functions, please see\n",
      "https://gist.github.com/mwaskom/de44147ed2974457ad6372750bbe5751\n",
      "\n",
      "  sns.distplot(pred_dt2[['사고율']])\n"
     ]
    },
    {
     "data": {
      "text/plain": [
       "<Axes: ylabel='Density'>"
      ]
     },
     "execution_count": 149,
     "metadata": {},
     "output_type": "execute_result"
    },
    {
     "data": {
      "image/png": "[encoded data removed]",
      "text/plain": [
       "<Figure size 640x480 with 1 Axes>"
      ]
     },
     "metadata": {},
     "output_type": "display_data"
    }
   ],
   "source": [
    "sns.distplot(pred_dt2[['사고율']])"
   ]
  }
 ],
 "metadata": {
  "kernelspec": {
   "display_name": "Python 3 (ipykernel)",
   "language": "python",
   "name": "python3"
  },
  "language_info": {
   "codemirror_mode": {
    "name": "ipython",
    "version": 3
   },
   "file_extension": ".py",
   "mimetype": "text/x-python",
   "name": "python",
   "nbconvert_exporter": "python",
   "pygments_lexer": "ipython3",
   "version": "3.10.9"
  }
 },
 "nbformat": 4,
 "nbformat_minor": 5
}
