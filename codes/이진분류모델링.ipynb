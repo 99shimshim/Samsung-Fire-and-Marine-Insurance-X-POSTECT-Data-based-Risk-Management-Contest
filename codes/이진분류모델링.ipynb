{
 "cells": [
  {
   "cell_type": "markdown",
   "id": "3be8d93f",
   "metadata": {},
   "source": [
    "# 이진분류 모델링"
   ]
  },
  {
   "cell_type": "code",
   "execution_count": 529,
   "id": "6ea72cf3",
   "metadata": {},
   "outputs": [],
   "source": [
    "import numpy as np\n",
    "import pandas as pd"
   ]
  },
  {
   "cell_type": "code",
   "execution_count": 530,
   "id": "2247f107",
   "metadata": {},
   "outputs": [],
   "source": [
    "df=pd.read_csv('C:/Users/EunSeon/Downloads/dataset_230928.csv')"
   ]
  },
  {
   "cell_type": "code",
   "execution_count": 531,
   "id": "b7bd279e",
   "metadata": {},
   "outputs": [],
   "source": [
    "df=df[df['유효대수']>0]\n",
    "df['사고율']=df['사고대수']/df['유효대수']"
   ]
  },
  {
   "cell_type": "code",
   "execution_count": 532,
   "id": "23b509fa",
   "metadata": {},
   "outputs": [],
   "source": [
    "df = pd.get_dummies(df, columns = ['직전3년간사고건수'], drop_first = False)\n",
    "df = pd.get_dummies(df, columns = ['운전자한정특별약관코드'], drop_first = False)"
   ]
  },
  {
   "cell_type": "code",
   "execution_count": 533,
   "id": "397d37b0",
   "metadata": {},
   "outputs": [],
   "source": [
    "df['마일리지할인율_재범주']=0\n",
    "df.loc[df['마일리지할인율\\t'] == 0, '마일리지할인율_재범주'] = 1\n",
    "df.loc[df['마일리지할인율\\t'] == 3000, '마일리지할인율_재범주'] = 2\n",
    "df.loc[df['마일리지할인율\\t'] == 5000, '마일리지할인율_재범주'] = 2\n",
    "df.loc[df['마일리지할인율\\t'] == 7000, '마일리지할인율_재범주'] = 2\n",
    "df.loc[df['마일리지할인율\\t'] == 10000, '마일리지할인율_재범주'] = 2\n",
    "df.loc[df['마일리지할인율\\t'] == 12000, '마일리지할인율_재범주'] = 3\n",
    "df.loc[df['마일리지할인율\\t'] == 15000, '마일리지할인율_재범주'] = 3\n",
    "df=pd.get_dummies(df, columns = ['마일리지할인율_재범주'], drop_first = False)\n",
    "df=df.drop(['마일리지할인율\\t'],axis=1)"
   ]
  },
  {
   "cell_type": "code",
   "execution_count": 534,
   "id": "6d643c10",
   "metadata": {},
   "outputs": [],
   "source": [
    "df['고경력운전자']=0\n",
    "df.loc[df['가입경력코드'] == 8, '고경력운전자'] = 1\n",
    "df['저경력운전자']=0\n",
    "df.loc[df['가입경력코드'] == 1, '저경력운전자'] = 1\n",
    "#30~50대를 구분하는 변수를 하나 넣었어요.. ! 데이터를 가만히 들여다보니 30~50대가 사고율이 낮은데 연령대를 순서형으로 사용해서 실제 사고율에 미치는 영향보다 뻥튀기된 것 같더라고요.. ^ㅡㅜ\n",
    "df['30대~50대']=0\n",
    "df.loc[df['피보험자연령대'] == 30, '30대~50대'] = 1\n",
    "df.loc[df['피보험자연령대'] == 40, '30대~50대'] = 1\n",
    "df.loc[df['피보험자연령대'] == 50, '30대~50대'] = 1"
   ]
  },
  {
   "cell_type": "code",
   "execution_count": 535,
   "id": "734c26ac",
   "metadata": {},
   "outputs": [],
   "source": [
    "df=df.drop(['유효대수','사고대수','사고여부'],axis=1)"
   ]
  },
  {
   "cell_type": "code",
   "execution_count": 536,
   "id": "e34ae0ae",
   "metadata": {},
   "outputs": [],
   "source": [
    "df['이상치']=0\n",
    "df.loc[df['사고율'] >= 1, '이상치'] = 1"
   ]
  },
  {
   "cell_type": "code",
   "execution_count": 537,
   "id": "f86efd4a",
   "metadata": {},
   "outputs": [],
   "source": [
    "from sklearn.model_selection import train_test_split\n",
    "X = df.drop([\"이상치\",'사고율'], axis=1)\n",
    "y = df[[\"이상치\",'사고율']]\n",
    "X_train, X_test, y_train, y_test = train_test_split(X, y, test_size=0.2, shuffle=True, random_state=31)"
   ]
  },
  {
   "cell_type": "markdown",
   "id": "d23895bf",
   "metadata": {},
   "source": [
    "## Logistic Regression"
   ]
  },
  {
   "cell_type": "markdown",
   "id": "595721a4",
   "metadata": {},
   "source": [
    "로지스틱 회귀로 사고율이 1 이상인 고객을 분류"
   ]
  },
  {
   "cell_type": "code",
   "execution_count": 538,
   "id": "2a8befe0",
   "metadata": {},
   "outputs": [],
   "source": [
    "from sklearn.linear_model import LogisticRegression\n",
    "from sklearn.metrics import f1_score, roc_curve, roc_auc_score, auc, accuracy_score\n",
    "from sklearn.metrics import matthews_corrcoef"
   ]
  },
  {
   "cell_type": "code",
   "execution_count": 539,
   "id": "e62ba3b2",
   "metadata": {},
   "outputs": [],
   "source": [
    "class_y_train=y_train['이상치']\n",
    "class_y_test=y_test['이상치']"
   ]
  },
  {
   "cell_type": "code",
   "execution_count": 540,
   "id": "fcd0b419",
   "metadata": {},
   "outputs": [],
   "source": [
    "#모든 변수를 모델링에 넣으면 모델이 수렴하지 않는 문제가 생겨 최대한 기존의 변수를 살림\n",
    "#R 로지스틱 회귀 모델에서 유의하지 않다고 나온 변수들을 제거 \n",
    "class_X_train=X_train.drop(['직전3년간사고건수_유무','마일리지할인율_가입여부','운전자한정특별약관코드_2','운전자한정특별약관코드_5','운전자한정특별약관코드_6','운전자한정특별약관코드_7','운전자한정특별약관코드_10','운전자한정특별약관코드_11','운전자한정특별약관코드_12','저경력운전자','차량가입금액','마일리지할인율_재범주_2','차종그루핑','자차보험가입여부'\n",
    "],axis=1)\n",
    "class_X_test=X_test.drop(['직전3년간사고건수_유무','마일리지할인율_가입여부','운전자한정특별약관코드_2','운전자한정특별약관코드_5','운전자한정특별약관코드_6','운전자한정특별약관코드_7','운전자한정특별약관코드_10','운전자한정특별약관코드_11','운전자한정특별약관코드_12','저경력운전자','차량가입금액','마일리지할인율_재범주_2','차종그루핑','자차보험가입여부'\n",
    "],axis=1)"
   ]
  },
  {
   "cell_type": "code",
   "execution_count": 541,
   "id": "12d1c45f",
   "metadata": {},
   "outputs": [
    {
     "name": "stdout",
     "output_type": "stream",
     "text": [
      "Optimization terminated successfully.\n",
      "         Current function value: 0.384518\n",
      "         Iterations 6\n"
     ]
    },
    {
     "data": {
      "text/html": [
       "<table class=\"simpletable\">\n",
       "<caption>Logit Regression Results</caption>\n",
       "<tr>\n",
       "  <th>Dep. Variable:</th>          <td>이상치</td>       <th>  No. Observations:  </th>  <td>134116</td> \n",
       "</tr>\n",
       "<tr>\n",
       "  <th>Model:</th>                 <td>Logit</td>      <th>  Df Residuals:      </th>  <td>134097</td> \n",
       "</tr>\n",
       "<tr>\n",
       "  <th>Method:</th>                 <td>MLE</td>       <th>  Df Model:          </th>  <td>    18</td> \n",
       "</tr>\n",
       "<tr>\n",
       "  <th>Date:</th>            <td>Wed, 04 Oct 2023</td> <th>  Pseudo R-squ.:     </th>  <td>0.05118</td>\n",
       "</tr>\n",
       "<tr>\n",
       "  <th>Time:</th>                <td>21:02:05</td>     <th>  Log-Likelihood:    </th> <td> -51570.</td>\n",
       "</tr>\n",
       "<tr>\n",
       "  <th>converged:</th>             <td>True</td>       <th>  LL-Null:           </th> <td> -54352.</td>\n",
       "</tr>\n",
       "<tr>\n",
       "  <th>Covariance Type:</th>     <td>nonrobust</td>    <th>  LLR p-value:       </th>  <td> 0.000</td> \n",
       "</tr>\n",
       "</table>\n",
       "<table class=\"simpletable\">\n",
       "<tr>\n",
       "        <td></td>           <th>coef</th>     <th>std err</th>      <th>z</th>      <th>P>|z|</th>  <th>[0.025</th>    <th>0.975]</th>  \n",
       "</tr>\n",
       "<tr>\n",
       "  <th>피보험자연령대</th>       <td>    0.0063</td> <td>    0.001</td> <td>    9.615</td> <td> 0.000</td> <td>    0.005</td> <td>    0.008</td>\n",
       "</tr>\n",
       "<tr>\n",
       "  <th>피보험자성별코드</th>      <td>   -0.2166</td> <td>    0.016</td> <td>  -13.220</td> <td> 0.000</td> <td>   -0.249</td> <td>   -0.184</td>\n",
       "</tr>\n",
       "<tr>\n",
       "  <th>국산구분코드</th>        <td>    0.1974</td> <td>    0.018</td> <td>   11.114</td> <td> 0.000</td> <td>    0.163</td> <td>    0.232</td>\n",
       "</tr>\n",
       "<tr>\n",
       "  <th>차량경과년수</th>        <td>   -0.0266</td> <td>    0.009</td> <td>   -3.052</td> <td> 0.002</td> <td>   -0.044</td> <td>   -0.010</td>\n",
       "</tr>\n",
       "<tr>\n",
       "  <th>가입경력코드</th>        <td>   -0.0900</td> <td>    0.006</td> <td>  -15.753</td> <td> 0.000</td> <td>   -0.101</td> <td>   -0.079</td>\n",
       "</tr>\n",
       "<tr>\n",
       "  <th>영상기록장치특약요율</th>    <td>   -0.1257</td> <td>    0.017</td> <td>   -7.382</td> <td> 0.000</td> <td>   -0.159</td> <td>   -0.092</td>\n",
       "</tr>\n",
       "<tr>\n",
       "  <th>차종</th>            <td>   -0.0291</td> <td>    0.006</td> <td>   -5.123</td> <td> 0.000</td> <td>   -0.040</td> <td>   -0.018</td>\n",
       "</tr>\n",
       "<tr>\n",
       "  <th>직전3년간사고건수_0</th>   <td>   -0.8212</td> <td>    0.079</td> <td>  -10.412</td> <td> 0.000</td> <td>   -0.976</td> <td>   -0.667</td>\n",
       "</tr>\n",
       "<tr>\n",
       "  <th>직전3년간사고건수_1</th>   <td>   -0.3157</td> <td>    0.080</td> <td>   -3.926</td> <td> 0.000</td> <td>   -0.473</td> <td>   -0.158</td>\n",
       "</tr>\n",
       "<tr>\n",
       "  <th>직전3년간사고건수_2</th>   <td>    0.1467</td> <td>    0.082</td> <td>    1.779</td> <td> 0.075</td> <td>   -0.015</td> <td>    0.308</td>\n",
       "</tr>\n",
       "<tr>\n",
       "  <th>직전3년간사고건수_3</th>   <td>    0.7406</td> <td>    0.084</td> <td>    8.808</td> <td> 0.000</td> <td>    0.576</td> <td>    0.905</td>\n",
       "</tr>\n",
       "<tr>\n",
       "  <th>직전3년간사고건수_4</th>   <td>   -0.2958</td> <td>    0.078</td> <td>   -3.807</td> <td> 0.000</td> <td>   -0.448</td> <td>   -0.144</td>\n",
       "</tr>\n",
       "<tr>\n",
       "  <th>운전자한정특별약관코드_1</th> <td>   -0.0238</td> <td>    0.026</td> <td>   -0.929</td> <td> 0.353</td> <td>   -0.074</td> <td>    0.026</td>\n",
       "</tr>\n",
       "<tr>\n",
       "  <th>운전자한정특별약관코드_3</th> <td>   -0.4524</td> <td>    0.023</td> <td>  -20.064</td> <td> 0.000</td> <td>   -0.497</td> <td>   -0.408</td>\n",
       "</tr>\n",
       "<tr>\n",
       "  <th>운전자한정특별약관코드_4</th> <td>   -0.3070</td> <td>    0.021</td> <td>  -14.906</td> <td> 0.000</td> <td>   -0.347</td> <td>   -0.267</td>\n",
       "</tr>\n",
       "<tr>\n",
       "  <th>마일리지할인율_재범주_1</th> <td>   -0.1988</td> <td>    0.051</td> <td>   -3.895</td> <td> 0.000</td> <td>   -0.299</td> <td>   -0.099</td>\n",
       "</tr>\n",
       "<tr>\n",
       "  <th>마일리지할인율_재범주_3</th> <td>   -0.5340</td> <td>    0.051</td> <td>  -10.574</td> <td> 0.000</td> <td>   -0.633</td> <td>   -0.435</td>\n",
       "</tr>\n",
       "<tr>\n",
       "  <th>고경력운전자</th>        <td>   -0.4816</td> <td>    0.027</td> <td>  -17.654</td> <td> 0.000</td> <td>   -0.535</td> <td>   -0.428</td>\n",
       "</tr>\n",
       "<tr>\n",
       "  <th>30대~50대</th>       <td>   -0.2547</td> <td>    0.019</td> <td>  -13.745</td> <td> 0.000</td> <td>   -0.291</td> <td>   -0.218</td>\n",
       "</tr>\n",
       "</table>"
      ],
      "text/plain": [
       "<class 'statsmodels.iolib.summary.Summary'>\n",
       "\"\"\"\n",
       "                           Logit Regression Results                           \n",
       "==============================================================================\n",
       "Dep. Variable:                    이상치   No. Observations:               134116\n",
       "Model:                          Logit   Df Residuals:                   134097\n",
       "Method:                           MLE   Df Model:                           18\n",
       "Date:                Wed, 04 Oct 2023   Pseudo R-squ.:                 0.05118\n",
       "Time:                        21:02:05   Log-Likelihood:                -51570.\n",
       "converged:                       True   LL-Null:                       -54352.\n",
       "Covariance Type:            nonrobust   LLR p-value:                     0.000\n",
       "=================================================================================\n",
       "                    coef    std err          z      P>|z|      [0.025      0.975]\n",
       "---------------------------------------------------------------------------------\n",
       "피보험자연령대           0.0063      0.001      9.615      0.000       0.005       0.008\n",
       "피보험자성별코드         -0.2166      0.016    -13.220      0.000      -0.249      -0.184\n",
       "국산구분코드            0.1974      0.018     11.114      0.000       0.163       0.232\n",
       "차량경과년수           -0.0266      0.009     -3.052      0.002      -0.044      -0.010\n",
       "가입경력코드           -0.0900      0.006    -15.753      0.000      -0.101      -0.079\n",
       "영상기록장치특약요율       -0.1257      0.017     -7.382      0.000      -0.159      -0.092\n",
       "차종               -0.0291      0.006     -5.123      0.000      -0.040      -0.018\n",
       "직전3년간사고건수_0      -0.8212      0.079    -10.412      0.000      -0.976      -0.667\n",
       "직전3년간사고건수_1      -0.3157      0.080     -3.926      0.000      -0.473      -0.158\n",
       "직전3년간사고건수_2       0.1467      0.082      1.779      0.075      -0.015       0.308\n",
       "직전3년간사고건수_3       0.7406      0.084      8.808      0.000       0.576       0.905\n",
       "직전3년간사고건수_4      -0.2958      0.078     -3.807      0.000      -0.448      -0.144\n",
       "운전자한정특별약관코드_1    -0.0238      0.026     -0.929      0.353      -0.074       0.026\n",
       "운전자한정특별약관코드_3    -0.4524      0.023    -20.064      0.000      -0.497      -0.408\n",
       "운전자한정특별약관코드_4    -0.3070      0.021    -14.906      0.000      -0.347      -0.267\n",
       "마일리지할인율_재범주_1    -0.1988      0.051     -3.895      0.000      -0.299      -0.099\n",
       "마일리지할인율_재범주_3    -0.5340      0.051    -10.574      0.000      -0.633      -0.435\n",
       "고경력운전자           -0.4816      0.027    -17.654      0.000      -0.535      -0.428\n",
       "30대~50대          -0.2547      0.019    -13.745      0.000      -0.291      -0.218\n",
       "=================================================================================\n",
       "\"\"\""
      ]
     },
     "execution_count": 541,
     "metadata": {},
     "output_type": "execute_result"
    }
   ],
   "source": [
    "import statsmodels.api as sm\n",
    "model = sm.Logit(class_y_train, class_X_train)\n",
    "results = model.fit(maxiter=1000)\n",
    "results.summary()"
   ]
  },
  {
   "cell_type": "code",
   "execution_count": 542,
   "id": "343bdb2e",
   "metadata": {},
   "outputs": [],
   "source": [
    "#추가적으로 유의하지 않다고 나온 변수 제거\n",
    "class_X_train=class_X_train.drop(['운전자한정특별약관코드_1'],axis=1)\n",
    "class_X_test=class_X_test.drop(['운전자한정특별약관코드_1'],axis=1)"
   ]
  },
  {
   "cell_type": "code",
   "execution_count": 543,
   "id": "6b015853",
   "metadata": {},
   "outputs": [
    {
     "name": "stdout",
     "output_type": "stream",
     "text": [
      "Optimization terminated successfully.\n",
      "         Current function value: 0.384521\n",
      "         Iterations 6\n"
     ]
    },
    {
     "data": {
      "text/html": [
       "<table class=\"simpletable\">\n",
       "<caption>Logit Regression Results</caption>\n",
       "<tr>\n",
       "  <th>Dep. Variable:</th>          <td>이상치</td>       <th>  No. Observations:  </th>  <td>134116</td> \n",
       "</tr>\n",
       "<tr>\n",
       "  <th>Model:</th>                 <td>Logit</td>      <th>  Df Residuals:      </th>  <td>134098</td> \n",
       "</tr>\n",
       "<tr>\n",
       "  <th>Method:</th>                 <td>MLE</td>       <th>  Df Model:          </th>  <td>    17</td> \n",
       "</tr>\n",
       "<tr>\n",
       "  <th>Date:</th>            <td>Wed, 04 Oct 2023</td> <th>  Pseudo R-squ.:     </th>  <td>0.05117</td>\n",
       "</tr>\n",
       "<tr>\n",
       "  <th>Time:</th>                <td>21:02:07</td>     <th>  Log-Likelihood:    </th> <td> -51570.</td>\n",
       "</tr>\n",
       "<tr>\n",
       "  <th>converged:</th>             <td>True</td>       <th>  LL-Null:           </th> <td> -54352.</td>\n",
       "</tr>\n",
       "<tr>\n",
       "  <th>Covariance Type:</th>     <td>nonrobust</td>    <th>  LLR p-value:       </th>  <td> 0.000</td> \n",
       "</tr>\n",
       "</table>\n",
       "<table class=\"simpletable\">\n",
       "<tr>\n",
       "        <td></td>           <th>coef</th>     <th>std err</th>      <th>z</th>      <th>P>|z|</th>  <th>[0.025</th>    <th>0.975]</th>  \n",
       "</tr>\n",
       "<tr>\n",
       "  <th>피보험자연령대</th>       <td>    0.0063</td> <td>    0.001</td> <td>    9.597</td> <td> 0.000</td> <td>    0.005</td> <td>    0.008</td>\n",
       "</tr>\n",
       "<tr>\n",
       "  <th>피보험자성별코드</th>      <td>   -0.2166</td> <td>    0.016</td> <td>  -13.225</td> <td> 0.000</td> <td>   -0.249</td> <td>   -0.185</td>\n",
       "</tr>\n",
       "<tr>\n",
       "  <th>국산구분코드</th>        <td>    0.1967</td> <td>    0.018</td> <td>   11.085</td> <td> 0.000</td> <td>    0.162</td> <td>    0.231</td>\n",
       "</tr>\n",
       "<tr>\n",
       "  <th>차량경과년수</th>        <td>   -0.0265</td> <td>    0.009</td> <td>   -3.041</td> <td> 0.002</td> <td>   -0.044</td> <td>   -0.009</td>\n",
       "</tr>\n",
       "<tr>\n",
       "  <th>가입경력코드</th>        <td>   -0.0900</td> <td>    0.006</td> <td>  -15.752</td> <td> 0.000</td> <td>   -0.101</td> <td>   -0.079</td>\n",
       "</tr>\n",
       "<tr>\n",
       "  <th>영상기록장치특약요율</th>    <td>   -0.1253</td> <td>    0.017</td> <td>   -7.363</td> <td> 0.000</td> <td>   -0.159</td> <td>   -0.092</td>\n",
       "</tr>\n",
       "<tr>\n",
       "  <th>차종</th>            <td>   -0.0288</td> <td>    0.006</td> <td>   -5.077</td> <td> 0.000</td> <td>   -0.040</td> <td>   -0.018</td>\n",
       "</tr>\n",
       "<tr>\n",
       "  <th>직전3년간사고건수_0</th>   <td>   -0.8272</td> <td>    0.079</td> <td>  -10.523</td> <td> 0.000</td> <td>   -0.981</td> <td>   -0.673</td>\n",
       "</tr>\n",
       "<tr>\n",
       "  <th>직전3년간사고건수_1</th>   <td>   -0.3217</td> <td>    0.080</td> <td>   -4.013</td> <td> 0.000</td> <td>   -0.479</td> <td>   -0.165</td>\n",
       "</tr>\n",
       "<tr>\n",
       "  <th>직전3년간사고건수_2</th>   <td>    0.1407</td> <td>    0.082</td> <td>    1.711</td> <td> 0.087</td> <td>   -0.020</td> <td>    0.302</td>\n",
       "</tr>\n",
       "<tr>\n",
       "  <th>직전3년간사고건수_3</th>   <td>    0.7344</td> <td>    0.084</td> <td>    8.762</td> <td> 0.000</td> <td>    0.570</td> <td>    0.899</td>\n",
       "</tr>\n",
       "<tr>\n",
       "  <th>직전3년간사고건수_4</th>   <td>   -0.3017</td> <td>    0.077</td> <td>   -3.897</td> <td> 0.000</td> <td>   -0.453</td> <td>   -0.150</td>\n",
       "</tr>\n",
       "<tr>\n",
       "  <th>운전자한정특별약관코드_3</th> <td>   -0.4460</td> <td>    0.021</td> <td>  -20.764</td> <td> 0.000</td> <td>   -0.488</td> <td>   -0.404</td>\n",
       "</tr>\n",
       "<tr>\n",
       "  <th>운전자한정특별약관코드_4</th> <td>   -0.3007</td> <td>    0.019</td> <td>  -15.457</td> <td> 0.000</td> <td>   -0.339</td> <td>   -0.263</td>\n",
       "</tr>\n",
       "<tr>\n",
       "  <th>마일리지할인율_재범주_1</th> <td>   -0.1994</td> <td>    0.051</td> <td>   -3.907</td> <td> 0.000</td> <td>   -0.299</td> <td>   -0.099</td>\n",
       "</tr>\n",
       "<tr>\n",
       "  <th>마일리지할인율_재범주_3</th> <td>   -0.5337</td> <td>    0.051</td> <td>  -10.567</td> <td> 0.000</td> <td>   -0.633</td> <td>   -0.435</td>\n",
       "</tr>\n",
       "<tr>\n",
       "  <th>고경력운전자</th>        <td>   -0.4807</td> <td>    0.027</td> <td>  -17.633</td> <td> 0.000</td> <td>   -0.534</td> <td>   -0.427</td>\n",
       "</tr>\n",
       "<tr>\n",
       "  <th>30대~50대</th>       <td>   -0.2552</td> <td>    0.019</td> <td>  -13.782</td> <td> 0.000</td> <td>   -0.292</td> <td>   -0.219</td>\n",
       "</tr>\n",
       "</table>"
      ],
      "text/plain": [
       "<class 'statsmodels.iolib.summary.Summary'>\n",
       "\"\"\"\n",
       "                           Logit Regression Results                           \n",
       "==============================================================================\n",
       "Dep. Variable:                    이상치   No. Observations:               134116\n",
       "Model:                          Logit   Df Residuals:                   134098\n",
       "Method:                           MLE   Df Model:                           17\n",
       "Date:                Wed, 04 Oct 2023   Pseudo R-squ.:                 0.05117\n",
       "Time:                        21:02:07   Log-Likelihood:                -51570.\n",
       "converged:                       True   LL-Null:                       -54352.\n",
       "Covariance Type:            nonrobust   LLR p-value:                     0.000\n",
       "=================================================================================\n",
       "                    coef    std err          z      P>|z|      [0.025      0.975]\n",
       "---------------------------------------------------------------------------------\n",
       "피보험자연령대           0.0063      0.001      9.597      0.000       0.005       0.008\n",
       "피보험자성별코드         -0.2166      0.016    -13.225      0.000      -0.249      -0.185\n",
       "국산구분코드            0.1967      0.018     11.085      0.000       0.162       0.231\n",
       "차량경과년수           -0.0265      0.009     -3.041      0.002      -0.044      -0.009\n",
       "가입경력코드           -0.0900      0.006    -15.752      0.000      -0.101      -0.079\n",
       "영상기록장치특약요율       -0.1253      0.017     -7.363      0.000      -0.159      -0.092\n",
       "차종               -0.0288      0.006     -5.077      0.000      -0.040      -0.018\n",
       "직전3년간사고건수_0      -0.8272      0.079    -10.523      0.000      -0.981      -0.673\n",
       "직전3년간사고건수_1      -0.3217      0.080     -4.013      0.000      -0.479      -0.165\n",
       "직전3년간사고건수_2       0.1407      0.082      1.711      0.087      -0.020       0.302\n",
       "직전3년간사고건수_3       0.7344      0.084      8.762      0.000       0.570       0.899\n",
       "직전3년간사고건수_4      -0.3017      0.077     -3.897      0.000      -0.453      -0.150\n",
       "운전자한정특별약관코드_3    -0.4460      0.021    -20.764      0.000      -0.488      -0.404\n",
       "운전자한정특별약관코드_4    -0.3007      0.019    -15.457      0.000      -0.339      -0.263\n",
       "마일리지할인율_재범주_1    -0.1994      0.051     -3.907      0.000      -0.299      -0.099\n",
       "마일리지할인율_재범주_3    -0.5337      0.051    -10.567      0.000      -0.633      -0.435\n",
       "고경력운전자           -0.4807      0.027    -17.633      0.000      -0.534      -0.427\n",
       "30대~50대          -0.2552      0.019    -13.782      0.000      -0.292      -0.219\n",
       "=================================================================================\n",
       "\"\"\""
      ]
     },
     "execution_count": 543,
     "metadata": {},
     "output_type": "execute_result"
    }
   ],
   "source": [
    "model = sm.Logit(class_y_train, class_X_train)\n",
    "results = model.fit(maxiter=1000)\n",
    "results.summary()"
   ]
  },
  {
   "cell_type": "code",
   "execution_count": 544,
   "id": "ed2a5e46",
   "metadata": {},
   "outputs": [],
   "source": [
    "#최종 모델 적합\n",
    "model = LogisticRegression(solver='lbfgs', max_iter=1000)\n",
    "model.fit(class_X_train, class_y_train)\n",
    "y_pred = model.predict(class_X_test)"
   ]
  },
  {
   "cell_type": "code",
   "execution_count": 545,
   "id": "46fc05cc",
   "metadata": {},
   "outputs": [],
   "source": [
    "y_prob = model.predict_proba(class_X_test)[:, 1] \n",
    "fpr, tpr, thresholds = roc_curve(class_y_test, y_prob)"
   ]
  },
  {
   "cell_type": "code",
   "execution_count": 546,
   "id": "694c4b9b",
   "metadata": {},
   "outputs": [
    {
     "data": {
      "text/plain": [
       "0.660474959202698"
      ]
     },
     "execution_count": 546,
     "metadata": {},
     "output_type": "execute_result"
    }
   ],
   "source": [
    "roc_auc = auc(fpr, tpr)\n",
    "roc_auc"
   ]
  },
  {
   "cell_type": "code",
   "execution_count": 547,
   "id": "44402e57",
   "metadata": {},
   "outputs": [
    {
     "data": {
      "image/png": "[encoded data removed]",
      "text/plain": [
       "<Figure size 800x600 with 1 Axes>"
      ]
     },
     "metadata": {},
     "output_type": "display_data"
    }
   ],
   "source": [
    "import matplotlib.pyplot as plt\n",
    "\n",
    "plt.figure(figsize=(8, 6))\n",
    "plt.plot(fpr, tpr, color='darkorange', lw=2, label='ROC curve (area = %0.2f)' % roc_auc)\n",
    "plt.plot([0, 1], [0, 1], color='navy', lw=2, linestyle='--')\n",
    "plt.xlim([0.0, 1.0])\n",
    "plt.ylim([0.0, 1.05])\n",
    "plt.xlabel('False Positive Rate')\n",
    "plt.ylabel('True Positive Rate')\n",
    "plt.title('Receiver Operating Characteristic (ROC)')\n",
    "plt.legend(loc='lower right')\n",
    "plt.show()"
   ]
  },
  {
   "cell_type": "code",
   "execution_count": 548,
   "id": "4e74ee0c",
   "metadata": {},
   "outputs": [
    {
     "data": {
      "text/plain": [
       "0.1326673193111588"
      ]
     },
     "execution_count": 548,
     "metadata": {},
     "output_type": "execute_result"
    }
   ],
   "source": [
    "optimal_idx=np.argmax(tpr-fpr)\n",
    "optimal=thresholds[optimal_idx]\n",
    "\n",
    "optimal"
   ]
  },
  {
   "cell_type": "markdown",
   "id": "164d7fdf",
   "metadata": {},
   "source": [
    "클래스 불균형이 존재하기 때문에 threshold를 따로 지정해 예측을 진행"
   ]
  },
  {
   "cell_type": "code",
   "execution_count": 549,
   "id": "2461d0b5",
   "metadata": {},
   "outputs": [],
   "source": [
    "model = LogisticRegression(solver='lbfgs', max_iter=1000)\n",
    "model.fit(class_X_train,class_y_train)\n",
    "threshold=optimal\n",
    "y_prob=model.predict_proba(class_X_test)[:,1]\n",
    "y_pred=(y_prob>threshold).astype(int)"
   ]
  },
  {
   "cell_type": "code",
   "execution_count": 550,
   "id": "fb5b65a5",
   "metadata": {
    "scrolled": true
   },
   "outputs": [
    {
     "data": {
      "text/html": [
       "<div>\n",
       "<style scoped>\n",
       "    .dataframe tbody tr th:only-of-type {\n",
       "        vertical-align: middle;\n",
       "    }\n",
       "\n",
       "    .dataframe tbody tr th {\n",
       "        vertical-align: top;\n",
       "    }\n",
       "\n",
       "    .dataframe thead th {\n",
       "        text-align: right;\n",
       "    }\n",
       "</style>\n",
       "<table border=\"1\" class=\"dataframe\">\n",
       "  <thead>\n",
       "    <tr style=\"text-align: right;\">\n",
       "      <th></th>\n",
       "      <th>피보험자연령대</th>\n",
       "      <th>피보험자성별코드</th>\n",
       "      <th>국산구분코드</th>\n",
       "      <th>차량경과년수</th>\n",
       "      <th>가입경력코드</th>\n",
       "      <th>차량가입금액</th>\n",
       "      <th>영상기록장치특약요율</th>\n",
       "      <th>직전3년간사고건수_유무</th>\n",
       "      <th>차종그루핑</th>\n",
       "      <th>마일리지할인율_가입여부</th>\n",
       "      <th>...</th>\n",
       "      <th>운전자한정특별약관코드_12</th>\n",
       "      <th>마일리지할인율_재범주_1</th>\n",
       "      <th>마일리지할인율_재범주_2</th>\n",
       "      <th>마일리지할인율_재범주_3</th>\n",
       "      <th>고경력운전자</th>\n",
       "      <th>저경력운전자</th>\n",
       "      <th>30대~50대</th>\n",
       "      <th>이상치</th>\n",
       "      <th>사고율</th>\n",
       "      <th>이상치 예측</th>\n",
       "    </tr>\n",
       "  </thead>\n",
       "  <tbody>\n",
       "    <tr>\n",
       "      <th>234463</th>\n",
       "      <td>30</td>\n",
       "      <td>2</td>\n",
       "      <td>2</td>\n",
       "      <td>3</td>\n",
       "      <td>7</td>\n",
       "      <td>1</td>\n",
       "      <td>0</td>\n",
       "      <td>0</td>\n",
       "      <td>0</td>\n",
       "      <td>1</td>\n",
       "      <td>...</td>\n",
       "      <td>0</td>\n",
       "      <td>0</td>\n",
       "      <td>0</td>\n",
       "      <td>1</td>\n",
       "      <td>0</td>\n",
       "      <td>0</td>\n",
       "      <td>1</td>\n",
       "      <td>0</td>\n",
       "      <td>0.000000</td>\n",
       "      <td>0</td>\n",
       "    </tr>\n",
       "    <tr>\n",
       "      <th>201767</th>\n",
       "      <td>30</td>\n",
       "      <td>2</td>\n",
       "      <td>1</td>\n",
       "      <td>2</td>\n",
       "      <td>5</td>\n",
       "      <td>1</td>\n",
       "      <td>1</td>\n",
       "      <td>0</td>\n",
       "      <td>1</td>\n",
       "      <td>0</td>\n",
       "      <td>...</td>\n",
       "      <td>0</td>\n",
       "      <td>1</td>\n",
       "      <td>0</td>\n",
       "      <td>0</td>\n",
       "      <td>0</td>\n",
       "      <td>0</td>\n",
       "      <td>1</td>\n",
       "      <td>0</td>\n",
       "      <td>0.000000</td>\n",
       "      <td>0</td>\n",
       "    </tr>\n",
       "    <tr>\n",
       "      <th>144498</th>\n",
       "      <td>30</td>\n",
       "      <td>2</td>\n",
       "      <td>1</td>\n",
       "      <td>2</td>\n",
       "      <td>7</td>\n",
       "      <td>0</td>\n",
       "      <td>1</td>\n",
       "      <td>1</td>\n",
       "      <td>1</td>\n",
       "      <td>0</td>\n",
       "      <td>...</td>\n",
       "      <td>0</td>\n",
       "      <td>1</td>\n",
       "      <td>0</td>\n",
       "      <td>0</td>\n",
       "      <td>0</td>\n",
       "      <td>0</td>\n",
       "      <td>1</td>\n",
       "      <td>0</td>\n",
       "      <td>0.333333</td>\n",
       "      <td>0</td>\n",
       "    </tr>\n",
       "    <tr>\n",
       "      <th>214366</th>\n",
       "      <td>30</td>\n",
       "      <td>2</td>\n",
       "      <td>1</td>\n",
       "      <td>2</td>\n",
       "      <td>7</td>\n",
       "      <td>1</td>\n",
       "      <td>1</td>\n",
       "      <td>1</td>\n",
       "      <td>1</td>\n",
       "      <td>1</td>\n",
       "      <td>...</td>\n",
       "      <td>0</td>\n",
       "      <td>0</td>\n",
       "      <td>0</td>\n",
       "      <td>1</td>\n",
       "      <td>0</td>\n",
       "      <td>0</td>\n",
       "      <td>1</td>\n",
       "      <td>0</td>\n",
       "      <td>0.000000</td>\n",
       "      <td>0</td>\n",
       "    </tr>\n",
       "    <tr>\n",
       "      <th>130094</th>\n",
       "      <td>60</td>\n",
       "      <td>1</td>\n",
       "      <td>2</td>\n",
       "      <td>0</td>\n",
       "      <td>8</td>\n",
       "      <td>2</td>\n",
       "      <td>0</td>\n",
       "      <td>1</td>\n",
       "      <td>0</td>\n",
       "      <td>0</td>\n",
       "      <td>...</td>\n",
       "      <td>0</td>\n",
       "      <td>1</td>\n",
       "      <td>0</td>\n",
       "      <td>0</td>\n",
       "      <td>1</td>\n",
       "      <td>0</td>\n",
       "      <td>0</td>\n",
       "      <td>0</td>\n",
       "      <td>0.500000</td>\n",
       "      <td>1</td>\n",
       "    </tr>\n",
       "  </tbody>\n",
       "</table>\n",
       "<p>5 rows × 36 columns</p>\n",
       "</div>"
      ],
      "text/plain": [
       "        피보험자연령대  피보험자성별코드  국산구분코드  차량경과년수  가입경력코드  차량가입금액  영상기록장치특약요율  \\\n",
       "234463       30         2       2       3       7       1           0   \n",
       "201767       30         2       1       2       5       1           1   \n",
       "144498       30         2       1       2       7       0           1   \n",
       "214366       30         2       1       2       7       1           1   \n",
       "130094       60         1       2       0       8       2           0   \n",
       "\n",
       "        직전3년간사고건수_유무  차종그루핑  마일리지할인율_가입여부  ...  운전자한정특별약관코드_12  마일리지할인율_재범주_1  \\\n",
       "234463             0      0             1  ...               0              0   \n",
       "201767             0      1             0  ...               0              1   \n",
       "144498             1      1             0  ...               0              1   \n",
       "214366             1      1             1  ...               0              0   \n",
       "130094             1      0             0  ...               0              1   \n",
       "\n",
       "        마일리지할인율_재범주_2  마일리지할인율_재범주_3  고경력운전자  저경력운전자  30대~50대  이상치       사고율  \\\n",
       "234463              0              1       0       0        1    0  0.000000   \n",
       "201767              0              0       0       0        1    0  0.000000   \n",
       "144498              0              0       0       0        1    0  0.333333   \n",
       "214366              0              1       0       0        1    0  0.000000   \n",
       "130094              0              0       1       0        0    0  0.500000   \n",
       "\n",
       "        이상치 예측  \n",
       "234463       0  \n",
       "201767       0  \n",
       "144498       0  \n",
       "214366       0  \n",
       "130094       1  \n",
       "\n",
       "[5 rows x 36 columns]"
      ]
     },
     "execution_count": 550,
     "metadata": {},
     "output_type": "execute_result"
    }
   ],
   "source": [
    "test_pred=pd.DataFrame(y_pred,columns=['이상치 예측'])\n",
    "idx=X_test.index\n",
    "test_pred.set_index(idx,inplace=True)\n",
    "res=pd.concat([X_test,y_test],axis=1)\n",
    "res=pd.concat([res,test_pred],axis=1)\n",
    "res.head()"
   ]
  },
  {
   "cell_type": "code",
   "execution_count": 551,
   "id": "2f7ecc26",
   "metadata": {},
   "outputs": [
    {
     "name": "stdout",
     "output_type": "stream",
     "text": [
      "분류 보고서:\n",
      "               precision    recall  f1-score   support\n",
      "\n",
      "           0       0.91      0.58      0.71     28878\n",
      "           1       0.20      0.65      0.31      4651\n",
      "\n",
      "    accuracy                           0.59     33529\n",
      "   macro avg       0.56      0.62      0.51     33529\n",
      "weighted avg       0.81      0.59      0.65     33529\n",
      "\n"
     ]
    }
   ],
   "source": [
    "from sklearn.metrics import accuracy_score, classification_report, confusion_matrix\n",
    "report = classification_report(class_y_test, y_pred)\n",
    "print(\"분류 보고서:\\n\", report)"
   ]
  },
  {
   "cell_type": "code",
   "execution_count": 552,
   "id": "16bdcd94",
   "metadata": {},
   "outputs": [
    {
     "data": {
      "text/plain": [
       "0.3066713945595461"
      ]
     },
     "execution_count": 552,
     "metadata": {},
     "output_type": "execute_result"
    }
   ],
   "source": [
    "f1_score(class_y_test,y_pred)"
   ]
  },
  {
   "cell_type": "code",
   "execution_count": 553,
   "id": "e14b4e8f",
   "metadata": {},
   "outputs": [
    {
     "data": {
      "text/plain": [
       "0.5087048035206589"
      ]
     },
     "execution_count": 553,
     "metadata": {},
     "output_type": "execute_result"
    }
   ],
   "source": [
    "f1_score(class_y_test,y_pred,average='macro')"
   ]
  },
  {
   "cell_type": "markdown",
   "id": "1f9c8a33",
   "metadata": {},
   "source": [
    "각 클래스에 대한 f1-score을 평균한 값으로, 클래스 불균형일 때 고려하는 지표 중 하나이기도 함."
   ]
  },
  {
   "cell_type": "code",
   "execution_count": 554,
   "id": "2a4bdcec",
   "metadata": {},
   "outputs": [
    {
     "data": {
      "text/plain": [
       "array([[16815, 12063],\n",
       "       [ 1624,  3027]], dtype=int64)"
      ]
     },
     "execution_count": 554,
     "metadata": {},
     "output_type": "execute_result"
    }
   ],
   "source": [
    "confusion = confusion_matrix(class_y_test,y_pred)\n",
    "confusion"
   ]
  },
  {
   "cell_type": "markdown",
   "id": "15f41a0d",
   "metadata": {},
   "source": [
    "사고율이 2 이상이 아닌 것들도 2 이상이라고 예측한 이유 : 직전3년간사고건수가 사고율 2 이상 여부를 예측하는데 (다른 변수에 비해 상대적으로) 큰 영향을 미침. 이를 통해 사고가 많이 나는데에는 운전자의 운전 습관, 행태가 사고율 예측에 유의미할 것으로 짐작할 수 있음. 하지만 각 고객의 운전 습관에 대한 정보를 구할 수 없어 성능이 높이기 힘들어보임! (분류 모델을 보면 차에 대한 정보보다도 운전자 운전 행태와 관련된 변수(연령대, 경력 등)가 예측에 유의미하다는 것을 알 수 있음) "
   ]
  },
  {
   "cell_type": "markdown",
   "id": "f8225af6",
   "metadata": {},
   "source": [
    "## 사고율 1 이상 Regressor"
   ]
  },
  {
   "cell_type": "code",
   "execution_count": 555,
   "id": "b0a9ae8a",
   "metadata": {},
   "outputs": [],
   "source": [
    "X_train=X_train.drop('30대~50대',axis=1)\n",
    "X_test=X_test.drop('30대~50대',axis=1)\n",
    "up_y_train=y_train[y_train['사고율']>=1]\n",
    "idx=up_y_train.index\n",
    "up_X_train=X_train.loc[idx]\n",
    "up_y_train=up_y_train['사고율']"
   ]
  },
  {
   "cell_type": "code",
   "execution_count": 556,
   "id": "79ec027c",
   "metadata": {},
   "outputs": [],
   "source": [
    "from sklearn.tree import DecisionTreeRegressor\n",
    "from sklearn.ensemble import RandomForestRegressor, GradientBoostingRegressor, VotingRegressor\n",
    "from sklearn.metrics import mean_squared_error"
   ]
  },
  {
   "cell_type": "code",
   "execution_count": 557,
   "id": "3e50bf7c",
   "metadata": {},
   "outputs": [],
   "source": [
    "dt_model = DecisionTreeRegressor(random_state=42)\n",
    "rf_model = RandomForestRegressor(random_state=42)\n",
    "gb_model = GradientBoostingRegressor(random_state=42)"
   ]
  },
  {
   "cell_type": "code",
   "execution_count": 558,
   "id": "5851dfb0",
   "metadata": {},
   "outputs": [],
   "source": [
    "ensemble_model1 = VotingRegressor(estimators=[('dt', dt_model), ('rf', rf_model), ('gb', gb_model)])"
   ]
  },
  {
   "cell_type": "code",
   "execution_count": 559,
   "id": "a42f62f5",
   "metadata": {},
   "outputs": [
    {
     "data": {
      "text/plain": [
       "VotingRegressor(estimators=[('dt', DecisionTreeRegressor(random_state=42)),\n",
       "                            ('rf', RandomForestRegressor(random_state=42)),\n",
       "                            ('gb', GradientBoostingRegressor(random_state=42))])"
      ]
     },
     "execution_count": 559,
     "metadata": {},
     "output_type": "execute_result"
    }
   ],
   "source": [
    "ensemble_model1.fit(up_X_train, up_y_train)"
   ]
  },
  {
   "cell_type": "markdown",
   "id": "c4d14627",
   "metadata": {},
   "source": [
    "## 사고율 1 미만 Regressor"
   ]
  },
  {
   "cell_type": "code",
   "execution_count": 560,
   "id": "de2f6b20",
   "metadata": {},
   "outputs": [],
   "source": [
    "down_y_train=y_train[y_train['사고율']<1]\n",
    "idx=down_y_train.index\n",
    "down_X_train=X_train.loc[idx]\n",
    "down_y_train=down_y_train['사고율']"
   ]
  },
  {
   "cell_type": "code",
   "execution_count": 561,
   "id": "951d3b71",
   "metadata": {},
   "outputs": [],
   "source": [
    "dt_model=DecisionTreeRegressor(random_state=42)\n",
    "rf_model=RandomForestRegressor(random_state=42)\n",
    "gb_model=GradientBoostingRegressor(random_state=42)"
   ]
  },
  {
   "cell_type": "code",
   "execution_count": 562,
   "id": "f2e9a373",
   "metadata": {},
   "outputs": [],
   "source": [
    "ensemble_model2 = VotingRegressor(estimators=[('dt', dt_model), ('rf', rf_model), ('gb', gb_model)])"
   ]
  },
  {
   "cell_type": "code",
   "execution_count": 563,
   "id": "b4479461",
   "metadata": {},
   "outputs": [
    {
     "data": {
      "text/plain": [
       "VotingRegressor(estimators=[('dt', DecisionTreeRegressor(random_state=42)),\n",
       "                            ('rf', RandomForestRegressor(random_state=42)),\n",
       "                            ('gb', GradientBoostingRegressor(random_state=42))])"
      ]
     },
     "execution_count": 563,
     "metadata": {},
     "output_type": "execute_result"
    }
   ],
   "source": [
    "ensemble_model2.fit(down_X_train, down_y_train)"
   ]
  },
  {
   "cell_type": "markdown",
   "id": "8b2542c2",
   "metadata": {},
   "source": [
    "## Regressor에 fitting"
   ]
  },
  {
   "cell_type": "code",
   "execution_count": 564,
   "id": "60ece256",
   "metadata": {},
   "outputs": [],
   "source": [
    "reg_X_test=res.drop(['이상치','사고율','30대~50대'],axis=1)\n",
    "reg_y_test=y_test['사고율']"
   ]
  },
  {
   "cell_type": "code",
   "execution_count": 565,
   "id": "1da4bb13",
   "metadata": {},
   "outputs": [],
   "source": [
    "up_X_test=reg_X_test[reg_X_test['이상치 예측']==1]\n",
    "idx=up_X_test.index\n",
    "up_y_test=reg_y_test.loc[idx]"
   ]
  },
  {
   "cell_type": "code",
   "execution_count": 566,
   "id": "91b35427",
   "metadata": {},
   "outputs": [],
   "source": [
    "down_X_test=reg_X_test[reg_X_test['이상치 예측']==0]\n",
    "idx=down_X_test.index\n",
    "down_y_test=reg_y_test.loc[idx]"
   ]
  },
  {
   "cell_type": "code",
   "execution_count": 567,
   "id": "5a6a794d",
   "metadata": {},
   "outputs": [],
   "source": [
    "up_X_test=up_X_test.drop('이상치 예측', axis=1)\n",
    "down_X_test=down_X_test.drop('이상치 예측', axis=1)"
   ]
  },
  {
   "cell_type": "code",
   "execution_count": 568,
   "id": "60586c6b",
   "metadata": {},
   "outputs": [],
   "source": [
    "y_pred = ensemble_model1.predict(up_X_test)\n",
    "\n",
    "test_pred1=pd.DataFrame(y_pred,columns=['예상 사고율'])\n",
    "idx=up_X_test.index\n",
    "test_pred1.set_index(idx,inplace=True)"
   ]
  },
  {
   "cell_type": "code",
   "execution_count": 569,
   "id": "6c373f2f",
   "metadata": {},
   "outputs": [],
   "source": [
    "y_pred = ensemble_model2.predict(down_X_test)\n",
    "\n",
    "test_pred2=pd.DataFrame(y_pred,columns=['예상 사고율'])\n",
    "idx=down_X_test.index\n",
    "test_pred2.set_index(idx,inplace=True)"
   ]
  },
  {
   "cell_type": "code",
   "execution_count": 570,
   "id": "15de4966",
   "metadata": {},
   "outputs": [],
   "source": [
    "pred_res=pd.concat([test_pred1,test_pred2])"
   ]
  },
  {
   "cell_type": "code",
   "execution_count": 571,
   "id": "3fa8707d",
   "metadata": {},
   "outputs": [],
   "source": [
    "pred_res=pd.concat([X_test,y_test,pred_res],axis=1)"
   ]
  },
  {
   "cell_type": "code",
   "execution_count": 572,
   "id": "b9bd10a5",
   "metadata": {},
   "outputs": [
    {
     "data": {
      "text/html": [
       "<div>\n",
       "<style scoped>\n",
       "    .dataframe tbody tr th:only-of-type {\n",
       "        vertical-align: middle;\n",
       "    }\n",
       "\n",
       "    .dataframe tbody tr th {\n",
       "        vertical-align: top;\n",
       "    }\n",
       "\n",
       "    .dataframe thead th {\n",
       "        text-align: right;\n",
       "    }\n",
       "</style>\n",
       "<table border=\"1\" class=\"dataframe\">\n",
       "  <thead>\n",
       "    <tr style=\"text-align: right;\">\n",
       "      <th></th>\n",
       "      <th>피보험자연령대</th>\n",
       "      <th>피보험자성별코드</th>\n",
       "      <th>국산구분코드</th>\n",
       "      <th>차량경과년수</th>\n",
       "      <th>가입경력코드</th>\n",
       "      <th>차량가입금액</th>\n",
       "      <th>영상기록장치특약요율</th>\n",
       "      <th>직전3년간사고건수_유무</th>\n",
       "      <th>차종그루핑</th>\n",
       "      <th>마일리지할인율_가입여부</th>\n",
       "      <th>...</th>\n",
       "      <th>운전자한정특별약관코드_11</th>\n",
       "      <th>운전자한정특별약관코드_12</th>\n",
       "      <th>마일리지할인율_재범주_1</th>\n",
       "      <th>마일리지할인율_재범주_2</th>\n",
       "      <th>마일리지할인율_재범주_3</th>\n",
       "      <th>고경력운전자</th>\n",
       "      <th>저경력운전자</th>\n",
       "      <th>이상치</th>\n",
       "      <th>사고율</th>\n",
       "      <th>예상 사고율</th>\n",
       "    </tr>\n",
       "  </thead>\n",
       "  <tbody>\n",
       "    <tr>\n",
       "      <th>234463</th>\n",
       "      <td>30</td>\n",
       "      <td>2</td>\n",
       "      <td>2</td>\n",
       "      <td>3</td>\n",
       "      <td>7</td>\n",
       "      <td>1</td>\n",
       "      <td>0</td>\n",
       "      <td>0</td>\n",
       "      <td>0</td>\n",
       "      <td>1</td>\n",
       "      <td>...</td>\n",
       "      <td>0</td>\n",
       "      <td>0</td>\n",
       "      <td>0</td>\n",
       "      <td>0</td>\n",
       "      <td>1</td>\n",
       "      <td>0</td>\n",
       "      <td>0</td>\n",
       "      <td>0</td>\n",
       "      <td>0.000000</td>\n",
       "      <td>0.044046</td>\n",
       "    </tr>\n",
       "    <tr>\n",
       "      <th>201767</th>\n",
       "      <td>30</td>\n",
       "      <td>2</td>\n",
       "      <td>1</td>\n",
       "      <td>2</td>\n",
       "      <td>5</td>\n",
       "      <td>1</td>\n",
       "      <td>1</td>\n",
       "      <td>0</td>\n",
       "      <td>1</td>\n",
       "      <td>0</td>\n",
       "      <td>...</td>\n",
       "      <td>0</td>\n",
       "      <td>0</td>\n",
       "      <td>1</td>\n",
       "      <td>0</td>\n",
       "      <td>0</td>\n",
       "      <td>0</td>\n",
       "      <td>0</td>\n",
       "      <td>0</td>\n",
       "      <td>0.000000</td>\n",
       "      <td>0.060114</td>\n",
       "    </tr>\n",
       "    <tr>\n",
       "      <th>144498</th>\n",
       "      <td>30</td>\n",
       "      <td>2</td>\n",
       "      <td>1</td>\n",
       "      <td>2</td>\n",
       "      <td>7</td>\n",
       "      <td>0</td>\n",
       "      <td>1</td>\n",
       "      <td>1</td>\n",
       "      <td>1</td>\n",
       "      <td>0</td>\n",
       "      <td>...</td>\n",
       "      <td>0</td>\n",
       "      <td>0</td>\n",
       "      <td>1</td>\n",
       "      <td>0</td>\n",
       "      <td>0</td>\n",
       "      <td>0</td>\n",
       "      <td>0</td>\n",
       "      <td>0</td>\n",
       "      <td>0.333333</td>\n",
       "      <td>0.065200</td>\n",
       "    </tr>\n",
       "    <tr>\n",
       "      <th>214366</th>\n",
       "      <td>30</td>\n",
       "      <td>2</td>\n",
       "      <td>1</td>\n",
       "      <td>2</td>\n",
       "      <td>7</td>\n",
       "      <td>1</td>\n",
       "      <td>1</td>\n",
       "      <td>1</td>\n",
       "      <td>1</td>\n",
       "      <td>1</td>\n",
       "      <td>...</td>\n",
       "      <td>0</td>\n",
       "      <td>0</td>\n",
       "      <td>0</td>\n",
       "      <td>0</td>\n",
       "      <td>1</td>\n",
       "      <td>0</td>\n",
       "      <td>0</td>\n",
       "      <td>0</td>\n",
       "      <td>0.000000</td>\n",
       "      <td>0.059586</td>\n",
       "    </tr>\n",
       "    <tr>\n",
       "      <th>130094</th>\n",
       "      <td>60</td>\n",
       "      <td>1</td>\n",
       "      <td>2</td>\n",
       "      <td>0</td>\n",
       "      <td>8</td>\n",
       "      <td>2</td>\n",
       "      <td>0</td>\n",
       "      <td>1</td>\n",
       "      <td>0</td>\n",
       "      <td>0</td>\n",
       "      <td>...</td>\n",
       "      <td>0</td>\n",
       "      <td>0</td>\n",
       "      <td>1</td>\n",
       "      <td>0</td>\n",
       "      <td>0</td>\n",
       "      <td>1</td>\n",
       "      <td>0</td>\n",
       "      <td>0</td>\n",
       "      <td>0.500000</td>\n",
       "      <td>2.191042</td>\n",
       "    </tr>\n",
       "  </tbody>\n",
       "</table>\n",
       "<p>5 rows × 35 columns</p>\n",
       "</div>"
      ],
      "text/plain": [
       "        피보험자연령대  피보험자성별코드  국산구분코드  차량경과년수  가입경력코드  차량가입금액  영상기록장치특약요율  \\\n",
       "234463       30         2       2       3       7       1           0   \n",
       "201767       30         2       1       2       5       1           1   \n",
       "144498       30         2       1       2       7       0           1   \n",
       "214366       30         2       1       2       7       1           1   \n",
       "130094       60         1       2       0       8       2           0   \n",
       "\n",
       "        직전3년간사고건수_유무  차종그루핑  마일리지할인율_가입여부  ...  운전자한정특별약관코드_11  \\\n",
       "234463             0      0             1  ...               0   \n",
       "201767             0      1             0  ...               0   \n",
       "144498             1      1             0  ...               0   \n",
       "214366             1      1             1  ...               0   \n",
       "130094             1      0             0  ...               0   \n",
       "\n",
       "        운전자한정특별약관코드_12  마일리지할인율_재범주_1  마일리지할인율_재범주_2  마일리지할인율_재범주_3  고경력운전자  \\\n",
       "234463               0              0              0              1       0   \n",
       "201767               0              1              0              0       0   \n",
       "144498               0              1              0              0       0   \n",
       "214366               0              0              0              1       0   \n",
       "130094               0              1              0              0       1   \n",
       "\n",
       "        저경력운전자  이상치       사고율    예상 사고율  \n",
       "234463       0    0  0.000000  0.044046  \n",
       "201767       0    0  0.000000  0.060114  \n",
       "144498       0    0  0.333333  0.065200  \n",
       "214366       0    0  0.000000  0.059586  \n",
       "130094       0    0  0.500000  2.191042  \n",
       "\n",
       "[5 rows x 35 columns]"
      ]
     },
     "execution_count": 572,
     "metadata": {},
     "output_type": "execute_result"
    }
   ],
   "source": [
    "pred_res.head()"
   ]
  },
  {
   "cell_type": "code",
   "execution_count": 573,
   "id": "6652a54c",
   "metadata": {},
   "outputs": [
    {
     "data": {
      "text/plain": [
       "0.8291723103310543"
      ]
     },
     "execution_count": 573,
     "metadata": {},
     "output_type": "execute_result"
    }
   ],
   "source": [
    "import math\n",
    "rmse = math.sqrt(mean_squared_error(pred_res['사고율'], pred_res['예상 사고율']))\n",
    "rmse"
   ]
  },
  {
   "cell_type": "code",
   "execution_count": 528,
   "id": "72c164de",
   "metadata": {},
   "outputs": [],
   "source": [
    "pred_res.to_csv('1004 최종 모델링 결과 4.csv',index=False,encoding='cp949')"
   ]
  },
  {
   "cell_type": "code",
   "execution_count": null,
   "id": "cc4d4a45",
   "metadata": {},
   "outputs": [],
   "source": []
  }
 ],
 "metadata": {
  "kernelspec": {
   "display_name": "Python 3 (ipykernel)",
   "language": "python",
   "name": "python3"
  },
  "language_info": {
   "codemirror_mode": {
    "name": "ipython",
    "version": 3
   },
   "file_extension": ".py",
   "mimetype": "text/x-python",
   "name": "python",
   "nbconvert_exporter": "python",
   "pygments_lexer": "ipython3",
   "version": "3.10.9"
  }
 },
 "nbformat": 4,
 "nbformat_minor": 5
}
